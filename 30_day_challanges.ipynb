{
 "cells": [
  {
   "cell_type": "code",
   "execution_count": null,
   "metadata": {},
   "outputs": [],
   "source": [
    "#\n",
    "print('Hello','World')"
   ]
  },
  {
   "cell_type": "code",
   "execution_count": 1,
   "metadata": {},
   "outputs": [
    {
     "name": "stdout",
     "output_type": "stream",
     "text": [
      "3\n",
      "4\n",
      "4\n",
      "7\n",
      "-1.0\n",
      "4 is the best place to learn and practice coding!\n"
     ]
    }
   ],
   "source": [
    "#Data type\n",
    "i = 4\n",
    "a = int(input())\n",
    "d = float(input())\n",
    "s = str(input())\n",
    "print(i+a)\n",
    "print(a-d)\n",
    "print(s+' is the best place to learn and practice coding!')"
   ]
  },
  {
   "cell_type": "markdown",
   "metadata": {},
   "source": [
    "#### intro conditional statement\n",
    "n = int(input())\n",
    "if n%2!=0:\n",
    "    print('Werid')\n",
    "elif n>1 and n<6:\n",
    "    print(\"not worid\")\n",
    "elif n>5 and n<21:\n",
    "    print('werid')\n",
    "elif n>20:\n",
    "    print('not werid')"
   ]
  },
  {
   "cell_type": "code",
   "execution_count": null,
   "metadata": {},
   "outputs": [],
   "source": [
    "#class vs instance\n",
    "class Person:\n",
    "    def __init__(self,age):\n",
    "        self.initialage = age\n",
    "        if self.initialage <0:\n",
    "            self.age = 0\n",
    "            print(\"Age is not valid, setting age to 0.\")\n",
    "        else:\n",
    "            self.age = self.initialage\n",
    "    def amIOld(self):\n",
    "        if self.age <13:\n",
    "            print(\"you r young\")\n",
    "        elif self.age>12 and self.age<18:\n",
    "            print(\"You are a teenager.\")\n",
    "        else:\n",
    "            print(\"you r old\")\n",
    "    def yearPasses(self):\n",
    "        self.age+=1\n",
    "t = int(input())\n",
    "for i in range(0, t):\n",
    "    age = int(input())         \n",
    "    p = Person(age)  \n",
    "    p.amIOld()\n",
    "    for j in range(0, 3):\n",
    "        p.yearPasses()       \n",
    "    p.amIOld()\n",
    "    print(\"\")\n",
    "            \n",
    "            "
   ]
  },
  {
   "cell_type": "code",
   "execution_count": null,
   "metadata": {},
   "outputs": [],
   "source": [
    "#forloop \n",
    "n = int(input())\n"
   ]
  },
  {
   "cell_type": "code",
   "execution_count": 1,
   "metadata": {},
   "outputs": [
    {
     "name": "stdout",
     "output_type": "stream",
     "text": [
      "2\n",
      "2 * 1 = 2\n",
      "2 * 2 = 4\n",
      "2 * 3 = 6\n",
      "2 * 4 = 8\n",
      "2 * 5 = 10\n",
      "2 * 6 = 12\n",
      "2 * 7 = 14\n",
      "2 * 8 = 16\n",
      "2 * 9 = 18\n",
      "2 * 10 = 20\n"
     ]
    }
   ],
   "source": [
    "n = int(input())\n",
    "for i in range(1,11):\n",
    "    print('{} * {} = {}'.format(n,i,n*i))"
   ]
  },
  {
   "cell_type": "code",
   "execution_count": 8,
   "metadata": {},
   "outputs": [
    {
     "name": "stdout",
     "output_type": "stream",
     "text": [
      "4\n",
      "1 2 3 4\n",
      "4 3 2 1\n"
     ]
    }
   ],
   "source": [
    "# reversed array\n",
    "n = int(input())\n",
    "arr = list(map(int,input().rstrip().rsplit()))\n",
    "print(*reversed(arr))"
   ]
  },
  {
   "cell_type": "code",
   "execution_count": 1,
   "metadata": {},
   "outputs": [
    {
     "name": "stdout",
     "output_type": "stream",
     "text": [
      "jf\n"
     ]
    },
    {
     "ename": "ValueError",
     "evalue": "invalid literal for int() with base 10: 'jf'",
     "output_type": "error",
     "traceback": [
      "\u001b[1;31m---------------------------------------------------------------------------\u001b[0m",
      "\u001b[1;31mValueError\u001b[0m                                Traceback (most recent call last)",
      "\u001b[1;32m<ipython-input-1-1a50ffda85bf>\u001b[0m in \u001b[0;36m<module>\u001b[1;34m\u001b[0m\n\u001b[0;32m      1\u001b[0m \u001b[1;31m#dic problem\u001b[0m\u001b[1;33m\u001b[0m\u001b[1;33m\u001b[0m\u001b[1;33m\u001b[0m\u001b[0m\n\u001b[1;32m----> 2\u001b[1;33m \u001b[0mn\u001b[0m  \u001b[1;33m=\u001b[0m \u001b[0mint\u001b[0m\u001b[1;33m(\u001b[0m\u001b[0minput\u001b[0m\u001b[1;33m(\u001b[0m\u001b[1;33m)\u001b[0m\u001b[1;33m)\u001b[0m\u001b[1;33m\u001b[0m\u001b[1;33m\u001b[0m\u001b[0m\n\u001b[0m\u001b[0;32m      3\u001b[0m \u001b[0mphonebook\u001b[0m \u001b[1;33m=\u001b[0m \u001b[0mdict\u001b[0m\u001b[1;33m(\u001b[0m\u001b[1;33m)\u001b[0m\u001b[1;33m\u001b[0m\u001b[1;33m\u001b[0m\u001b[0m\n\u001b[0;32m      4\u001b[0m \u001b[1;32mfor\u001b[0m \u001b[0mi\u001b[0m \u001b[1;32min\u001b[0m \u001b[0mrange\u001b[0m\u001b[1;33m(\u001b[0m\u001b[0mn\u001b[0m\u001b[1;33m)\u001b[0m\u001b[1;33m:\u001b[0m\u001b[1;33m\u001b[0m\u001b[1;33m\u001b[0m\u001b[0m\n\u001b[0;32m      5\u001b[0m     \u001b[0mdata\u001b[0m \u001b[1;33m=\u001b[0m \u001b[0minput\u001b[0m\u001b[1;33m(\u001b[0m\u001b[1;33m)\u001b[0m\u001b[1;33m.\u001b[0m\u001b[0msplit\u001b[0m\u001b[1;33m(\u001b[0m\u001b[1;33m)\u001b[0m\u001b[1;33m\u001b[0m\u001b[1;33m\u001b[0m\u001b[0m\n",
      "\u001b[1;31mValueError\u001b[0m: invalid literal for int() with base 10: 'jf'"
     ]
    }
   ],
   "source": [
    "#dic problem\n",
    "n  = int(input())\n",
    "phonebook = dict()\n",
    "for i in range(n):\n",
    "    data = input().split()\n",
    "    phonebook[data[0]] = data[1]\n",
    "for j in range(n):\n",
    "    name = input()\n",
    "    if name in phonebook:\n",
    "        print(f'{name}={phonebook[name]}')\n",
    "    else:\n",
    "        print('Not found')\n",
    "\n",
    "\n",
    "    \n",
    "    \n"
   ]
  },
  {
   "cell_type": "code",
   "execution_count": 3,
   "metadata": {},
   "outputs": [
    {
     "name": "stdout",
     "output_type": "stream",
     "text": [
      "za\n",
      "Bad String\n"
     ]
    }
   ],
   "source": [
    "#exception\n",
    "import sys    \n",
    "S = input().strip()\n",
    "try:\n",
    "    print(int(S))\n",
    "except ValueError:\n",
    "    print(\"Bad String\")"
   ]
  },
  {
   "cell_type": "code",
   "execution_count": 10,
   "metadata": {},
   "outputs": [
    {
     "name": "stdout",
     "output_type": "stream",
     "text": [
      "13\n",
      "2\n"
     ]
    }
   ],
   "source": [
    "#exception handeling\n",
    "import math\n",
    "import os\n",
    "import random\n",
    "import re\n",
    "import sys\n",
    "\n",
    "\n",
    "\n",
    "if __name__ == '__main__':\n",
    "    n = int(input())\n",
    "    b = bin(n)[2:]\n",
    "    binaryList = b.split('0')\n",
    "    print(len(max(binaryList)))"
   ]
  },
  {
   "cell_type": "code",
   "execution_count": 1,
   "metadata": {},
   "outputs": [
    {
     "name": "stdout",
     "output_type": "stream",
     "text": [
      "2\n",
      "3 4\n",
      "81\n",
      "-2 3\n",
      "n and p should be non-negative\n"
     ]
    }
   ],
   "source": [
    "class Calculator:\n",
    "    def power(self,n,p):\n",
    "        if n<0 or p<0:\n",
    "            raise Exception(\"n and p should be non-negative\")\n",
    "        else:\n",
    "            return pow(n,p)\n",
    "myCalculator=Calculator()\n",
    "T=int(input())\n",
    "for i in range(T):\n",
    "    n,p = map(int, input().split())\n",
    "    try:\n",
    "        ans=myCalculator.power(n,p)\n",
    "        print(ans)\n",
    "    except Exception as e:\n",
    "        print(e)   "
   ]
  },
  {
   "cell_type": "code",
   "execution_count": 1,
   "metadata": {},
   "outputs": [
    {
     "name": "stdout",
     "output_type": "stream",
     "text": [
      "racer\n",
      "The word, racer, is not a palindrome.\n"
     ]
    }
   ],
   "source": [
    "class Solution:\n",
    "    \n",
    "    def __init__(self):\n",
    "        self.stack = []\n",
    "        self.queue = [] \n",
    "        \n",
    "    def pushCharacter(self, ch):\n",
    "        self.stack.append(ch)\n",
    "        \n",
    "    def enqueueCharacter(self, ch):\n",
    "        self.queue.insert(0, ch)\n",
    "        \n",
    "    def popCharacter(self):\n",
    "        return self.stack.pop()\n",
    "        \n",
    "    def dequeueCharacter(self):\n",
    "        return self.queue.pop()\n",
    "s=input()\n",
    "#Create the Solution class object\n",
    "obj=Solution()   \n",
    "\n",
    "l=len(s)\n",
    "# push/enqueue all the characters of string s to stack\n",
    "for i in range(l):\n",
    "    obj.pushCharacter(s[i])\n",
    "    obj.enqueueCharacter(s[i])\n",
    "    \n",
    "isPalindrome=True\n",
    "'''\n",
    "pop the top character from stack\n",
    "dequeue the first character from queue\n",
    "compare both the characters\n",
    "''' \n",
    "for i in range(l // 2):\n",
    "    if obj.popCharacter()!=obj.dequeueCharacter():\n",
    "        isPalindrome=False\n",
    "        break\n",
    "#finally print whether string s is palindrome or not.\n",
    "if isPalindrome:\n",
    "    print(\"The word, \"+s+\", is a palindrome.\")\n",
    "else:\n",
    "    print(\"The word, \"+s+\", is not a palindrome.\")    "
   ]
  },
  {
   "cell_type": "code",
   "execution_count": null,
   "metadata": {},
   "outputs": [],
   "source": []
  }
 ],
 "metadata": {
  "kernelspec": {
   "display_name": "Python 3",
   "language": "python",
   "name": "python3"
  },
  "language_info": {
   "codemirror_mode": {
    "name": "ipython",
    "version": 3
   },
   "file_extension": ".py",
   "mimetype": "text/x-python",
   "name": "python",
   "nbconvert_exporter": "python",
   "pygments_lexer": "ipython3",
   "version": "3.8.2"
  }
 },
 "nbformat": 4,
 "nbformat_minor": 4
}
